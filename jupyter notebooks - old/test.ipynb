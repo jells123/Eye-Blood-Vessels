{
 "cells": [
  {
   "cell_type": "code",
   "execution_count": 1,
   "metadata": {
    "scrolled": false
   },
   "outputs": [
    {
     "name": "stderr",
     "output_type": "stream",
     "text": [
      "Using TensorFlow backend.\n"
     ]
    },
    {
     "ename": "MemoryError",
     "evalue": "",
     "output_type": "error",
     "traceback": [
      "\u001b[1;31m---------------------------------------------------------------------------\u001b[0m",
      "\u001b[1;31mMemoryError\u001b[0m                               Traceback (most recent call last)",
      "\u001b[1;32m<ipython-input-1-019e0e62c14b>\u001b[0m in \u001b[0;36m<module>\u001b[1;34m()\u001b[0m\n\u001b[0;32m     79\u001b[0m     samples = np.array([\n\u001b[0;32m     80\u001b[0m         \u001b[1;33m[\u001b[0m\u001b[0meye_padded\u001b[0m\u001b[1;33m[\u001b[0m\u001b[0mx\u001b[0m\u001b[1;33m-\u001b[0m\u001b[0mpad_size\u001b[0m\u001b[1;33m:\u001b[0m\u001b[0mx\u001b[0m\u001b[1;33m+\u001b[0m\u001b[0mpad_size\u001b[0m\u001b[1;33m+\u001b[0m\u001b[1;36m1\u001b[0m\u001b[1;33m,\u001b[0m \u001b[0my\u001b[0m\u001b[1;33m-\u001b[0m\u001b[0mpad_size\u001b[0m\u001b[1;33m:\u001b[0m\u001b[0my\u001b[0m\u001b[1;33m+\u001b[0m\u001b[0mpad_size\u001b[0m\u001b[1;33m+\u001b[0m\u001b[1;36m1\u001b[0m\u001b[1;33m]\u001b[0m \u001b[1;32mfor\u001b[0m \u001b[0my\u001b[0m \u001b[1;32min\u001b[0m \u001b[0mrange\u001b[0m\u001b[1;33m(\u001b[0m\u001b[0mpad_size\u001b[0m\u001b[1;33m,\u001b[0m \u001b[0meye_padded\u001b[0m\u001b[1;33m.\u001b[0m\u001b[0mshape\u001b[0m\u001b[1;33m[\u001b[0m\u001b[1;36m1\u001b[0m\u001b[1;33m]\u001b[0m\u001b[1;33m-\u001b[0m\u001b[0mpad_size\u001b[0m\u001b[1;33m)\u001b[0m\u001b[1;33m]\u001b[0m\u001b[1;33m\u001b[0m\u001b[0m\n\u001b[1;32m---> 81\u001b[1;33m               for x in range(pad_size, eye_padded.shape[0]-pad_size-1)], dtype=np.float32)\n\u001b[0m\u001b[0;32m     82\u001b[0m     \u001b[0mprint\u001b[0m\u001b[1;33m(\u001b[0m\u001b[0mvessel_img\u001b[0m\u001b[1;33m.\u001b[0m\u001b[0mshape\u001b[0m\u001b[1;33m)\u001b[0m\u001b[1;33m\u001b[0m\u001b[0m\n\u001b[0;32m     83\u001b[0m     \u001b[0mprint\u001b[0m\u001b[1;33m(\u001b[0m\u001b[0mlen\u001b[0m\u001b[1;33m(\u001b[0m\u001b[0msamples\u001b[0m\u001b[1;33m)\u001b[0m\u001b[1;33m,\u001b[0m \u001b[0mlen\u001b[0m\u001b[1;33m(\u001b[0m\u001b[0msamples\u001b[0m\u001b[1;33m[\u001b[0m\u001b[1;36m0\u001b[0m\u001b[1;33m]\u001b[0m\u001b[1;33m)\u001b[0m\u001b[1;33m)\u001b[0m\u001b[1;33m\u001b[0m\u001b[0m\n",
      "\u001b[1;31mMemoryError\u001b[0m: "
     ]
    }
   ],
   "source": [
    "import cv2 as cv\n",
    "import os\n",
    "import numpy as np\n",
    "import matplotlib.pyplot as plt\n",
    "import random\n",
    "\n",
    "from keras.models import load_model\n",
    "\n",
    "model = load_model(\"weights.13-0.18.hdf5\")\n",
    "random.seed(3)\n",
    "\n",
    "def find_vessel(name, vessels):\n",
    "    for v in vessels:\n",
    "        if v.startswith(name):\n",
    "            return v\n",
    "    return -1\n",
    "\n",
    "def bgr2rgb(img):\n",
    "    return img[...,::-1]\n",
    "\n",
    "def load_color_img(path):\n",
    "    return bgr2rgb(cv.imread(path))\n",
    "\n",
    "def load_gray_img(path):\n",
    "    return cv.imread(path, 0)\n",
    "\n",
    "def pad_img(img, padsize):\n",
    "    #rows\n",
    "    if len(img.shape) == 3:\n",
    "        upper_pad = img[img.shape[0]-padsize:img.shape[0], :, :]\n",
    "        lower_pad = img[0:padsize+1, :, :]\n",
    "    elif len(img.shape) == 2:\n",
    "        upper_pad = img[img.shape[0]-padsize:img.shape[0], :]\n",
    "        lower_pad = img[0:padsize+1, :]\n",
    "    img = np.concatenate((upper_pad, img), axis=0)\n",
    "    img = np.concatenate((img, lower_pad), axis=0)\n",
    "\n",
    "    #columns\n",
    "    if len(img.shape) == 3:\n",
    "        p = np.zeros((img.shape[0], padsize, img.shape[2]), dtype=int)\n",
    "    elif len(img.shape) == 2:\n",
    "        p = np.zeros((img.shape[0], padsize), dtype=int)\n",
    "    \n",
    "    img = np.concatenate((p, img), axis=1)\n",
    "    img = np.concatenate((img, p), axis=1)\n",
    "\n",
    "    return img\n",
    "\n",
    "def save_img(path, img):\n",
    "    img = bgr2rgb(img)\n",
    "    cv.imwrite(path, img)\n",
    "    \n",
    "def is_black(img):\n",
    "    maxcolor = 255.0 * img.shape[0] * img.shape[1] * img.shape[2]\n",
    "    if np.sum(img)/maxcolor <= 0.01:\n",
    "        return True\n",
    "    return False\n",
    "    \n",
    "sample_size = 33\n",
    "pad_size = int( np.floor(sample_size/2.0) )\n",
    "\n",
    "data_path = os.getcwd() + \"/eye_data\" + \"/set1\"\n",
    "test_path = data_path + \"/4testing\" + \"/\"\n",
    "\n",
    "test_imgs = [f for f in os.listdir(test_path) if f.lower().find(\".jpg\") != -1]\n",
    "test_vessels = [f for f in os.listdir(test_path) if f.lower().find(\".tif\") != -1]\n",
    "\n",
    "for t in test_imgs:\n",
    "    name = t[:t.lower().find(\".jpg\")]\n",
    "    v = find_vessel(name, test_vessels)\n",
    "\n",
    "    eye_img = load_color_img(test_path+t)\n",
    "    vessel_img = load_gray_img(test_path+v)\n",
    "\n",
    "    eye_padded = pad_img(eye_img, pad_size)\n",
    "    vessel_padded = pad_img(vessel_img, pad_size)\n",
    "    \n",
    "    vessels_predicted_img = np.zeros(vessel_img.shape, dtype=np.float32)\n",
    "    samples = [\n",
    "        [eye_padded[x-pad_size:x+pad_size+1, y-pad_size:y+pad_size+1] for y in range(pad_size, eye_padded.shape[1]-pad_size)]\n",
    "              for x in range(pad_size, eye_padded.shape[0]-pad_size-1)]\n",
    "    print(vessel_img.shape)\n",
    "    print(len(samples), len(samples[0]))\n",
    "    \n",
    "    plt.imshow(eye_img)\n",
    "    plt.show()\n",
    "    plt.imshow(vessel_img)\n",
    "    plt.show()\n",
    "    \n",
    "    print(\"prediction start...\")\n",
    "    for idx, line in enumerate(samples):\n",
    "        line = np.array(line, dtype=np.float32)\n",
    "        predicted_classes = model.predict(line)\n",
    "        predicted_classes = np.array(list(map(lambda x : np.argmax(x), predicted_classes))) * 255.0\n",
    "        vessels_predicted_img[idx] = predicted_classes\n",
    "        print(idx)\n",
    "        if idx % 100 == 0:\n",
    "            plt.imshow(vessels_predicted_img)\n",
    "            plt.show()\n",
    "    print(\"predicted!\")\n",
    "\n",
    "    plt.imshow(vessels_predicted_img)\n",
    "    plt.show()\n",
    "    \n",
    "    break\n",
    "\n",
    "   \n",
    "    \n",
    "\n"
   ]
  },
  {
   "cell_type": "code",
   "execution_count": 9,
   "metadata": {},
   "outputs": [
    {
     "data": {
      "text/plain": [
       "['04_g.jpg', '06_dr.JPG', '11_h.jpg', '13_dr.JPG', '14_h.jpg']"
      ]
     },
     "execution_count": 9,
     "metadata": {},
     "output_type": "execute_result"
    }
   ],
   "source": [
    "test_imgs\n"
   ]
  },
  {
   "cell_type": "code",
   "execution_count": 5,
   "metadata": {},
   "outputs": [
    {
     "data": {
      "text/plain": [
       "'3.5.4 |Anaconda custom (64-bit)| (default, Nov  8 2017, 14:34:30) [MSC v.1900 64 bit (AMD64)]'"
      ]
     },
     "execution_count": 5,
     "metadata": {},
     "output_type": "execute_result"
    }
   ],
   "source": [
    "import sys\n",
    "sys.version"
   ]
  }
 ],
 "metadata": {
  "kernelspec": {
   "display_name": "Python 3",
   "language": "python",
   "name": "python3"
  },
  "language_info": {
   "codemirror_mode": {
    "name": "ipython",
    "version": 3
   },
   "file_extension": ".py",
   "mimetype": "text/x-python",
   "name": "python",
   "nbconvert_exporter": "python",
   "pygments_lexer": "ipython3",
   "version": "3.5.4"
  }
 },
 "nbformat": 4,
 "nbformat_minor": 2
}
